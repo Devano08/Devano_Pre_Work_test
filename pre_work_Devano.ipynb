{
  "nbformat": 4,
  "nbformat_minor": 0,
  "metadata": {
    "colab": {
      "provenance": []
    },
    "kernelspec": {
      "name": "python3",
      "display_name": "Python 3"
    },
    "language_info": {
      "name": "python"
    }
  },
  "cells": [
    {
      "cell_type": "markdown",
      "source": [
        "#Import"
      ],
      "metadata": {
        "id": "SgEWJdq02r0y"
      }
    },
    {
      "cell_type": "code",
      "source": [
        "import requests\n",
        "from bs4 import BeautifulSoup\n",
        "import pandas as pd\n",
        "import re\n",
        "import time"
      ],
      "metadata": {
        "id": "E1wGSBYKQqlO"
      },
      "execution_count": null,
      "outputs": []
    },
    {
      "cell_type": "markdown",
      "source": [
        "#Get API"
      ],
      "metadata": {
        "id": "shCIej8WQm-T"
      }
    },
    {
      "cell_type": "code",
      "source": [
        "SERPAPI_KEY = '3e33047b5d45eba0a802a51a9deed3080ae17717eb542cd3bad23ff48126a1cb'"
      ],
      "metadata": {
        "id": "MbG2SyTNQ41m"
      },
      "execution_count": null,
      "outputs": []
    },
    {
      "cell_type": "markdown",
      "source": [
        "#Search Function"
      ],
      "metadata": {
        "id": "HKgPO8kyQ-CY"
      }
    },
    {
      "cell_type": "code",
      "source": [
        "def get_serp_results(query):\n",
        "    search_url = f'https://serpapi.com/search?q={query}&api_key={SERPAPI_KEY}'\n",
        "    response = requests.get(search_url)\n",
        "\n",
        "    if response.status_code == 200:\n",
        "        return response.json()\n",
        "    else:\n",
        "        print(f\"Error: {response.status_code}\")\n",
        "        return None\n",
        "\n",
        "def extract_email(text):\n",
        "    text = BeautifulSoup(text, \"html.parser\").get_text()\n",
        "    text = text.replace(\"[at]\", \"@\").replace(\"[dot]\", \".\")\n",
        "\n",
        "    email_regex = r'[a-zA-Z0-9._%+-]+@[a-zA-Z0-9.-]+\\.[a-zA-Z]{2,}'\n",
        "    emails = re.findall(email_regex, text)\n",
        "\n",
        "    return emails if emails else \"N/A\"\n",
        "\n",
        "def find_all_links(soup):\n",
        "    all_links = [a['href'] for a in soup.find_all('a', href=True)]\n",
        "    return all_links if all_links else \"N/A\""
      ],
      "metadata": {
        "id": "JU8g7jdMQ9k8"
      },
      "execution_count": null,
      "outputs": []
    },
    {
      "cell_type": "code",
      "source": [
        "def extract_company_info(query):\n",
        "    results = get_serp_results(query)\n",
        "\n",
        "    if results and 'organic_results' in results:\n",
        "        company_info = []\n",
        "\n",
        "        for result in results['organic_results']:\n",
        "            company_name = result.get('title', 'N/A')\n",
        "            company_url = result.get('link', 'N/A')\n",
        "\n",
        "            try:\n",
        "\n",
        "                response = requests.get(company_url, timeout=10)\n",
        "                if response.status_code == 200:\n",
        "                    soup = BeautifulSoup(response.text, 'html.parser')\n",
        "\n",
        "                    page_emails = extract_email(soup.get_text())\n",
        "\n",
        "                    all_links = find_all_links(soup)\n",
        "                else:\n",
        "                    page_emails = [\"N/A\"]\n",
        "                    all_links = [\"N/A\"]\n",
        "            except requests.exceptions.RequestException as e:\n",
        "                print(f\"Error fetching {company_url}: {e}\")\n",
        "                page_emails = [\"N/A\"]\n",
        "                all_links = [\"N/A\"]\n",
        "\n",
        "            company_info.append({\n",
        "                'company_name': company_name,\n",
        "                'company_url': company_url,\n",
        "                'informal_emails': page_emails,\n",
        "                'links': all_links\n",
        "            })\n",
        "\n",
        "            time.sleep(2)\n",
        "\n",
        "        return company_info\n",
        "    else:\n",
        "        print(\"No results found.\")\n",
        "        return []\n",
        "\n",
        "# Contoh Penggunaan\n",
        "query = \"Digital Marketing Agency\"\n",
        "company_data = extract_company_info(query)\n",
        "\n",
        "# Result\n",
        "for company in company_data:\n",
        "    print(\"\\nCompany Name:\", company['company_name'])\n",
        "    print(\"Company URL:\", company['company_url'])\n",
        "    print(\"Emails:\", company['informal_emails'])\n",
        "    print(\"Links:\", company['links'][:5])  # Print 5 link pertama"
      ],
      "metadata": {
        "colab": {
          "base_uri": "https://localhost:8080/"
        },
        "id": "pEFcnOJORPrn",
        "outputId": "22224f91-254b-4325-c520-58a3949627d0"
      },
      "execution_count": null,
      "outputs": [
        {
          "output_type": "stream",
          "name": "stdout",
          "text": [
            "\n",
            "Company Name: 10+ Digital Marketing Agencies in Chicago- 2025\n",
            "Company URL: https://www.dmthriveagency.com/digital-marketing-agencies-in-chicago/\n",
            "Emails: ['contact@dmthriveagency.com', 'dmthriveagency@gmail.com']\n",
            "Links: ['#content', 'https://www.linkedin.com/company/dmthrive-agency', 'https://x.com/Dmthriveagency', 'https://www.instagram.com/dmthriveagency/', 'https://join.skype.com/invite/uWD7NsiFPO3d']\n",
            "\n",
            "Company Name: Marcel Digital: Chicago Digital Marketing & Web Development ...\n",
            "Company URL: https://www.marceldigital.com/\n",
            "Emails: N/A\n",
            "Links: ['#site-content', '/', '/services', '/services/search-engine-optimization', '/services/search-engine-optimization/technical-seo']\n",
            "\n",
            "Company Name: #1 Digital Marketing Agency | Web Marketing Company\n",
            "Company URL: https://coalitiontechnologies.com/digital-marketing\n",
            "Emails: ['N/A']\n",
            "Links: ['N/A']\n",
            "\n",
            "Company Name: Thrive Internet Marketing Agency: Digital Marketing Agency\n",
            "Company URL: https://thriveagency.com/\n",
            "Emails: N/A\n",
            "Links: ['https://thriveagency.com/', 'https://thriveagency.com/digital-marketing-services/', '#', '/digital-marketing-services/', 'https://thriveagency.com/digital-marketing-services/digital-marketing-strategy-development/']\n",
            "\n",
            "Company Name: Paul Gregory Media | Naperville Digital Marketing Agency\n",
            "Company URL: https://paulgregorymedia.com/\n",
            "Emails: ['N/A']\n",
            "Links: ['N/A']\n",
            "\n",
            "Company Name: SmartSites: #1 Best Rated Digital Marketing Agency\n",
            "Company URL: https://www.smartsites.com/\n",
            "Emails: ['abuse@telegram.org']\n",
            "Links: ['https://events.shopifyny.com/shopifydigitalgrowthsummit/web', 'https://www.smartsites.com/', 'https://www.smartsites.com/digital-marketing-services/', 'https://www.smartsites.com/work/', 'https://www.smartsites.com/company/']\n",
            "\n",
            "Company Name: Top 50+ Digital Marketing Agencies April 2025\n",
            "Company URL: https://www.upwork.com/agencies/digital-marketing-agencies/\n",
            "Emails: ['N/A']\n",
            "Links: ['N/A']\n",
            "\n",
            "Company Name: Digital Marketing Company Lisle, IL\n",
            "Company URL: https://www.americaneagle.com/locations/lisle/lisle-digital-marketing\n",
            "Emails: ['N/A']\n",
            "Links: ['N/A']\n"
          ]
        }
      ]
    }
  ]
}